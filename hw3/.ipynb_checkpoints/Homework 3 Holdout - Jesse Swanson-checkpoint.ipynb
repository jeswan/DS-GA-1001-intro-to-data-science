{
 "cells": [
  {
   "cell_type": "markdown",
   "metadata": {},
   "source": [
    "# Introduction to Data Science\n",
    "## Homework 3"
   ]
  },
  {
   "cell_type": "markdown",
   "metadata": {},
   "source": [
    "Student Name: Jesse Swanson\n",
    "\n",
    "Student Netid: js11133"
   ]
  },
  {
   "cell_type": "markdown",
   "metadata": {},
   "source": [
    "### Part 1 (5 Points)\n",
    "Assume that $X$ and $Y$ are discrete random variables. The formulas for Mutual Information, Entropy and Conditional Entropy are given by:\n",
    "\n",
    "$$\\text{Mutual Information} = \\sum_{y \\in Y} \\sum_{x \\in X} p(x, y) \\cdot log\\frac{p(x, y)}{p(x)p(y)}$$\n",
    "\n",
    "$$\\text{Entropy} = H(Y) = -\\sum_{y \\in Y} p(y) \\cdot log(p(y))$$\n",
    "\n",
    "$$\\text{Conditional Entropy} = H(Y \\mid X) = \\sum_{x \\in X} p(x) \\cdot H(Y \\mid X = x)$$\n",
    "\n",
    "Show mathematically that $\\text{Mutual Information} = \\text{Information Gain}$, where $\\text{Information Gain} = H(Y) – H(Y \\mid X)$. Give the derivation below (note, this can be done using Latek math notation, which renders nicely. See above. Feel free to do it by hand and submit an image of your proof)."
   ]
  },
  {
   "cell_type": "markdown",
   "metadata": {},
   "source": [
    "$$\n",
    "\\begin{align}\n",
    "\\text{Mutual Information} &= \\sum_{y \\in Y} \\sum_{x \\in X} p_{X,Y}(x, y) \\cdot log\\frac{p_{X,Y}(x, y)}{p_X(x)p_Y(y)} \\\\\n",
    "&=\\sum_{y \\in Y} \\sum_{x \\in X} p(x, y) \\cdot log\\frac{p(x, y)}{p(x)} - \\sum_{y \\in Y} \\sum_{x \\in X} p(x, y) \\cdot log (p(y)) \\\\\n",
    "&=\\sum_{y \\in Y} \\sum_{x \\in X} p(x, y) \\cdot log(p_{Y|X}(y|x)) - \\sum_{y \\in Y} \\sum_{x \\in X} p(x, y) \\cdot log (p(y)) \\\\\n",
    "&=\\sum_{x \\in X} p_X(x) \\sum_{y \\in Y}  p_{Y|X}(y|x) \\cdot log(p_{Y|X}(y|x)) - \\sum_{y \\in Y} p(y) \\cdot log (p(y)) \\\\\n",
    "&=-H(Y|X) + H(Y) \\\\\n",
    "&= H(Y) - H(Y|X)\n",
    "\\end{align}\n",
    "$$\n",
    "where $H(Y)$ is the marginal entropy and $H(Y|X)$ is the conditional entropy. Note,\n",
    "$$\n",
    "\\sum_{y \\in Y}  p_{Y|X}(y|x) \\cdot log(p_{Y|X}(y|x)) = H(Y|X=x)\n",
    "$$"
   ]
  },
  {
   "cell_type": "markdown",
   "metadata": {},
   "source": [
    "### Part 2 - Preparing a Training Set and Training a Decision Tree (10 Points)\n",
    "This is a hands-on task where we build a predictive model using Decision Trees discussed in class. For this part, we will be using the data in `cell2cell_data.csv`.\n",
    "\n",
    "These historical data consist of 39,859 customers: 19,901 customers that churned (i.e., left the company) and 19,958 that did not churn (see the `\"churndep\"` variable). Here are the data set's 11 possible predictor variables for churning behavior: \n",
    "\n",
    "```\n",
    "Pos.  Var. Name  Var. Description\n",
    "----- ---------- --------------------------------------------------------------\n",
    "1     revenue    Mean monthly revenue in dollars\n",
    "2     outcalls   Mean number of outbound voice calls\n",
    "3     incalls    Mean number of inbound voice calls\n",
    "4     months     Months in Service\n",
    "5     eqpdays    Number of days the customer has had his/her current equipment\n",
    "6     webcap     Handset is web capable\n",
    "7     marryyes   Married (1=Yes; 0=No)\n",
    "8     travel     Has traveled to non-US country (1=Yes; 0=No)\n",
    "9     pcown      Owns a personal computer (1=Yes; 0=No)\n",
    "10    creditcd   Possesses a credit card (1=Yes; 0=No)\n",
    "11    retcalls   Number of calls previously made to retention team\n",
    "```\n",
    "\n",
    "The 12th column, the dependent variable `\"churndep\"`, equals 1 if the customer churned, and 0 otherwise. "
   ]
  },
  {
   "cell_type": "markdown",
   "metadata": {},
   "source": [
    "1\\. Load the data and prepare it for modeling. Note that the features are already processed for you, so the only thing needed here is split the data into training and testing. Use pandas to create two data frames: train_df and test_df, where train_df has 80% of the data chosen uniformly at random without replacement (test_df should have the other 20%). Also, make sure to write your own code to do the splits. You may use any random() function in numpy but DO NOT use the data splitting functions from Sklearn."
   ]
  },
  {
   "cell_type": "code",
   "execution_count": 43,
   "metadata": {},
   "outputs": [],
   "source": [
    "import pandas as pd\n",
    "import numpy as np\n",
    "from sklearn.tree import DecisionTreeClassifier"
   ]
  },
  {
   "cell_type": "code",
   "execution_count": 32,
   "metadata": {},
   "outputs": [
    {
     "name": "stdout",
     "output_type": "stream",
     "text": [
      "0.7999949823126521\n",
      "0.2000050176873479\n"
     ]
    }
   ],
   "source": [
    "data_cols = [\"revenue\", \"outcalls\", \"incalls\", \"months\", \"eqpdays\", \n",
    "                                           \"webcap\", \"marryyes\",\"travel\",\"pcown\",\"creditcd\",\"retcalls\",\"churndep\"]\n",
    "\n",
    "test_data = pd.DataFrame(columns=data_cols)\n",
    "train_data = pd.DataFrame(columns=data_cols)\n",
    "\n",
    "dataset_filename = 'cell2cell_data.csv'\n",
    "data = pd.read_csv(dataset_filename,names=data_cols)\n",
    "data_num_rows = data.shape[0]\n",
    "\n",
    "for i in range(data.shape[0]):\n",
    "    rand_row = np.random.randint(data.shape[0])\n",
    "    \n",
    "    #add to test set\n",
    "    if i % 5 == 0:\n",
    "        test_data = test_data.append(data.iloc[rand_row],ignore_index=True)\n",
    "        data = data.drop(data.index[rand_row], axis=0)\n",
    "    #add to training set\n",
    "    else:\n",
    "        train_data = train_data.append(data.iloc[rand_row],ignore_index=True)\n",
    "        data = data.drop(data.index[rand_row], axis=0)    \n",
    "        \n",
    "print(train_data.shape[0]/data_num_rows)\n",
    "print(test_data.shape[0]/data_num_rows)"
   ]
  },
  {
   "cell_type": "markdown",
   "metadata": {},
   "source": [
    "2\\. If we had to, how would we prove to ourselves or a colleague that our data was indeed randomly sampled on X? And by prove, I mean empirically, not just showing this person our code. Don't actually do the work, just describe in your own words a test you could here. Hint: think about this in terms of selection bias and use notes from our 2nd lecture."
   ]
  },
  {
   "cell_type": "markdown",
   "metadata": {},
   "source": [
    "To show our data was randomly sampled on X, we could compare the univariate and covariate statistics of X given another feature Y (P(X|Y)) to statistics of the population. The goal is to show that the sample is unbiased. This means that the probablity of being in sample is indepedent of the features  and therefore the probability of X being in our sample is independent of Y."
   ]
  },
  {
   "cell_type": "markdown",
   "metadata": {},
   "source": [
    "3\\. Now build and train a decision tree classifier using `DecisionTreeClassifier()` [(manual page)](http://scikit-learn.org/stable/modules/generated/sklearn.tree.DecisionTreeClassifier.html) on train_df to predict the `\"churndep\"` target variable. Make sure to use `criterion='entropy'` when instantiating an instance of `DecisionTreeClassifier()`. For all other settings you should use all of the default options."
   ]
  },
  {
   "cell_type": "code",
   "execution_count": 66,
   "metadata": {},
   "outputs": [],
   "source": [
    "train_data.head()\n",
    "features = list(data.columns[:11])\n",
    "\n",
    "Y = train_data[\"churndep\"]\n",
    "X = train_data[features]\n",
    "\n",
    "clf = DecisionTreeClassifier(criterion='entropy')\n",
    "clf = clf.fit(X, Y)"
   ]
  },
  {
   "cell_type": "markdown",
   "metadata": {},
   "source": [
    "4\\. Using the resulting model from 2.3, show a bar plot of feature names and their feature importance (hint: check the attributes of the `DecisionTreeClassifier()` object directly in IPython or check the manual!). Make sure the bar plot is sorted by increasing feature importance values."
   ]
  },
  {
   "cell_type": "code",
   "execution_count": 81,
   "metadata": {},
   "outputs": [
    {
     "name": "stdout",
     "output_type": "stream",
     "text": [
      "[('webcap', 0.004572359793187726), ('retcalls', 0.0051675656289119935), ('travel', 0.010600013383375717), ('creditcd', 0.01903281633104647), ('pcown', 0.019216500533986706), ('marryyes', 0.024914147524756996), ('months', 0.08619658373231931), ('incalls', 0.12554841144526238), ('outcalls', 0.1941840152276378), ('eqpdays', 0.24608072450428034), ('revenue', 0.2644868618952344)]\n"
     ]
    },
    {
     "data": {
      "image/png": "[encoded data removed]",
      "text/plain": [
       "<Figure size 432x288 with 1 Axes>"
      ]
     },
     "metadata": {
      "needs_background": "light"
     },
     "output_type": "display_data"
    }
   ],
   "source": [
    "import matplotlib.pyplot as plt\n",
    "%matplotlib inline\n",
    "\n",
    "feature_importances = clf.feature_importances_\n",
    "feat_and_imp = list(zip(features, feature_importances))\n",
    "sorted_feat_and_imp = sorted(feat_and_imp,key=lambda l:l[1])\n",
    "print(sorted_feat_and_imp)\n",
    "\n",
    "labels, ys = zip(*sorted_feat_and_imp)\n",
    "xs = np.arange(len(labels)) \n",
    "\n",
    "plt.bar(xs, ys, align='center')\n",
    "plt.title(\"Feature Importance Ranking\")\n",
    "plt.xticks(xs, labels, rotation='vertical')\n",
    "plt.ylim((0,0.3))\n",
    "plt.show()"
   ]
  },
  {
   "cell_type": "markdown",
   "metadata": {},
   "source": [
    "5\\. Is the relationship between the top 3 most important features (as measured here) negative or positive? If your marketing director asked you to explain the top 3 drivers of churn, how would you interpret the relationship between these 3 features and the churn outcome? What \"real-life\" connection can you draw between each variable and churn? Make sure to state your answer, and not just show code."
   ]
  },
  {
   "cell_type": "code",
   "execution_count": 82,
   "metadata": {
    "scrolled": true
   },
   "outputs": [
    {
     "data": {
      "text/html": [
       "<div>\n",
       "<style scoped>\n",
       "    .dataframe tbody tr th:only-of-type {\n",
       "        vertical-align: middle;\n",
       "    }\n",
       "\n",
       "    .dataframe tbody tr th {\n",
       "        vertical-align: top;\n",
       "    }\n",
       "\n",
       "    .dataframe thead th {\n",
       "        text-align: right;\n",
       "    }\n",
       "</style>\n",
       "<table border=\"1\" class=\"dataframe\">\n",
       "  <thead>\n",
       "    <tr style=\"text-align: right;\">\n",
       "      <th></th>\n",
       "      <th>revenue</th>\n",
       "      <th>outcalls</th>\n",
       "      <th>incalls</th>\n",
       "      <th>months</th>\n",
       "      <th>eqpdays</th>\n",
       "      <th>webcap</th>\n",
       "      <th>marryyes</th>\n",
       "      <th>travel</th>\n",
       "      <th>pcown</th>\n",
       "      <th>creditcd</th>\n",
       "      <th>retcalls</th>\n",
       "      <th>churndep</th>\n",
       "    </tr>\n",
       "  </thead>\n",
       "  <tbody>\n",
       "    <tr>\n",
       "      <td>revenue</td>\n",
       "      <td>1.000000</td>\n",
       "      <td>0.502538</td>\n",
       "      <td>0.392230</td>\n",
       "      <td>-0.014248</td>\n",
       "      <td>-0.223259</td>\n",
       "      <td>0.105644</td>\n",
       "      <td>-0.096524</td>\n",
       "      <td>-0.041994</td>\n",
       "      <td>-0.083566</td>\n",
       "      <td>-0.083356</td>\n",
       "      <td>0.012632</td>\n",
       "      <td>-0.016486</td>\n",
       "    </tr>\n",
       "    <tr>\n",
       "      <td>outcalls</td>\n",
       "      <td>0.502538</td>\n",
       "      <td>1.000000</td>\n",
       "      <td>0.726434</td>\n",
       "      <td>-0.038737</td>\n",
       "      <td>-0.241627</td>\n",
       "      <td>0.111285</td>\n",
       "      <td>-0.122967</td>\n",
       "      <td>-0.040187</td>\n",
       "      <td>-0.093366</td>\n",
       "      <td>-0.093277</td>\n",
       "      <td>0.007883</td>\n",
       "      <td>-0.039939</td>\n",
       "    </tr>\n",
       "    <tr>\n",
       "      <td>incalls</td>\n",
       "      <td>0.392230</td>\n",
       "      <td>0.726434</td>\n",
       "      <td>1.000000</td>\n",
       "      <td>-0.025378</td>\n",
       "      <td>-0.204050</td>\n",
       "      <td>0.094838</td>\n",
       "      <td>-0.093881</td>\n",
       "      <td>-0.038158</td>\n",
       "      <td>-0.076071</td>\n",
       "      <td>-0.074054</td>\n",
       "      <td>0.000713</td>\n",
       "      <td>-0.042474</td>\n",
       "    </tr>\n",
       "    <tr>\n",
       "      <td>months</td>\n",
       "      <td>-0.014248</td>\n",
       "      <td>-0.038737</td>\n",
       "      <td>-0.025378</td>\n",
       "      <td>1.000000</td>\n",
       "      <td>0.484282</td>\n",
       "      <td>-0.250280</td>\n",
       "      <td>0.085624</td>\n",
       "      <td>0.047291</td>\n",
       "      <td>0.061624</td>\n",
       "      <td>0.140191</td>\n",
       "      <td>0.068099</td>\n",
       "      <td>0.023765</td>\n",
       "    </tr>\n",
       "    <tr>\n",
       "      <td>eqpdays</td>\n",
       "      <td>-0.223259</td>\n",
       "      <td>-0.241627</td>\n",
       "      <td>-0.204050</td>\n",
       "      <td>0.484282</td>\n",
       "      <td>1.000000</td>\n",
       "      <td>-0.392175</td>\n",
       "      <td>0.113653</td>\n",
       "      <td>0.050081</td>\n",
       "      <td>0.069497</td>\n",
       "      <td>0.121483</td>\n",
       "      <td>-0.026668</td>\n",
       "      <td>0.115468</td>\n",
       "    </tr>\n",
       "    <tr>\n",
       "      <td>webcap</td>\n",
       "      <td>0.105644</td>\n",
       "      <td>0.111285</td>\n",
       "      <td>0.094838</td>\n",
       "      <td>-0.250280</td>\n",
       "      <td>-0.392175</td>\n",
       "      <td>1.000000</td>\n",
       "      <td>-0.059541</td>\n",
       "      <td>-0.006519</td>\n",
       "      <td>-0.029208</td>\n",
       "      <td>-0.065095</td>\n",
       "      <td>-0.009393</td>\n",
       "      <td>-0.071889</td>\n",
       "    </tr>\n",
       "    <tr>\n",
       "      <td>marryyes</td>\n",
       "      <td>-0.096524</td>\n",
       "      <td>-0.122967</td>\n",
       "      <td>-0.093881</td>\n",
       "      <td>0.085624</td>\n",
       "      <td>0.113653</td>\n",
       "      <td>-0.059541</td>\n",
       "      <td>1.000000</td>\n",
       "      <td>0.155420</td>\n",
       "      <td>0.337028</td>\n",
       "      <td>0.436818</td>\n",
       "      <td>-0.018892</td>\n",
       "      <td>-0.008490</td>\n",
       "    </tr>\n",
       "    <tr>\n",
       "      <td>travel</td>\n",
       "      <td>-0.041994</td>\n",
       "      <td>-0.040187</td>\n",
       "      <td>-0.038158</td>\n",
       "      <td>0.047291</td>\n",
       "      <td>0.050081</td>\n",
       "      <td>-0.006519</td>\n",
       "      <td>0.155420</td>\n",
       "      <td>1.000000</td>\n",
       "      <td>0.251632</td>\n",
       "      <td>0.161034</td>\n",
       "      <td>-0.007087</td>\n",
       "      <td>-0.007766</td>\n",
       "    </tr>\n",
       "    <tr>\n",
       "      <td>pcown</td>\n",
       "      <td>-0.083566</td>\n",
       "      <td>-0.093366</td>\n",
       "      <td>-0.076071</td>\n",
       "      <td>0.061624</td>\n",
       "      <td>0.069497</td>\n",
       "      <td>-0.029208</td>\n",
       "      <td>0.337028</td>\n",
       "      <td>0.251632</td>\n",
       "      <td>1.000000</td>\n",
       "      <td>0.294740</td>\n",
       "      <td>-0.017298</td>\n",
       "      <td>-0.004586</td>\n",
       "    </tr>\n",
       "    <tr>\n",
       "      <td>creditcd</td>\n",
       "      <td>-0.083356</td>\n",
       "      <td>-0.093277</td>\n",
       "      <td>-0.074054</td>\n",
       "      <td>0.140191</td>\n",
       "      <td>0.121483</td>\n",
       "      <td>-0.065095</td>\n",
       "      <td>0.436818</td>\n",
       "      <td>0.161034</td>\n",
       "      <td>0.294740</td>\n",
       "      <td>1.000000</td>\n",
       "      <td>-0.009622</td>\n",
       "      <td>-0.014902</td>\n",
       "    </tr>\n",
       "    <tr>\n",
       "      <td>retcalls</td>\n",
       "      <td>0.012632</td>\n",
       "      <td>0.007883</td>\n",
       "      <td>0.000713</td>\n",
       "      <td>0.068099</td>\n",
       "      <td>-0.026668</td>\n",
       "      <td>-0.009393</td>\n",
       "      <td>-0.018892</td>\n",
       "      <td>-0.007087</td>\n",
       "      <td>-0.017298</td>\n",
       "      <td>-0.009622</td>\n",
       "      <td>1.000000</td>\n",
       "      <td>0.068362</td>\n",
       "    </tr>\n",
       "    <tr>\n",
       "      <td>churndep</td>\n",
       "      <td>-0.016486</td>\n",
       "      <td>-0.039939</td>\n",
       "      <td>-0.042474</td>\n",
       "      <td>0.023765</td>\n",
       "      <td>0.115468</td>\n",
       "      <td>-0.071889</td>\n",
       "      <td>-0.008490</td>\n",
       "      <td>-0.007766</td>\n",
       "      <td>-0.004586</td>\n",
       "      <td>-0.014902</td>\n",
       "      <td>0.068362</td>\n",
       "      <td>1.000000</td>\n",
       "    </tr>\n",
       "  </tbody>\n",
       "</table>\n",
       "</div>"
      ],
      "text/plain": [
       "           revenue  outcalls   incalls    months   eqpdays    webcap  \\\n",
       "revenue   1.000000  0.502538  0.392230 -0.014248 -0.223259  0.105644   \n",
       "outcalls  0.502538  1.000000  0.726434 -0.038737 -0.241627  0.111285   \n",
       "incalls   0.392230  0.726434  1.000000 -0.025378 -0.204050  0.094838   \n",
       "months   -0.014248 -0.038737 -0.025378  1.000000  0.484282 -0.250280   \n",
       "eqpdays  -0.223259 -0.241627 -0.204050  0.484282  1.000000 -0.392175   \n",
       "webcap    0.105644  0.111285  0.094838 -0.250280 -0.392175  1.000000   \n",
       "marryyes -0.096524 -0.122967 -0.093881  0.085624  0.113653 -0.059541   \n",
       "travel   -0.041994 -0.040187 -0.038158  0.047291  0.050081 -0.006519   \n",
       "pcown    -0.083566 -0.093366 -0.076071  0.061624  0.069497 -0.029208   \n",
       "creditcd -0.083356 -0.093277 -0.074054  0.140191  0.121483 -0.065095   \n",
       "retcalls  0.012632  0.007883  0.000713  0.068099 -0.026668 -0.009393   \n",
       "churndep -0.016486 -0.039939 -0.042474  0.023765  0.115468 -0.071889   \n",
       "\n",
       "          marryyes    travel     pcown  creditcd  retcalls  churndep  \n",
       "revenue  -0.096524 -0.041994 -0.083566 -0.083356  0.012632 -0.016486  \n",
       "outcalls -0.122967 -0.040187 -0.093366 -0.093277  0.007883 -0.039939  \n",
       "incalls  -0.093881 -0.038158 -0.076071 -0.074054  0.000713 -0.042474  \n",
       "months    0.085624  0.047291  0.061624  0.140191  0.068099  0.023765  \n",
       "eqpdays   0.113653  0.050081  0.069497  0.121483 -0.026668  0.115468  \n",
       "webcap   -0.059541 -0.006519 -0.029208 -0.065095 -0.009393 -0.071889  \n",
       "marryyes  1.000000  0.155420  0.337028  0.436818 -0.018892 -0.008490  \n",
       "travel    0.155420  1.000000  0.251632  0.161034 -0.007087 -0.007766  \n",
       "pcown     0.337028  0.251632  1.000000  0.294740 -0.017298 -0.004586  \n",
       "creditcd  0.436818  0.161034  0.294740  1.000000 -0.009622 -0.014902  \n",
       "retcalls -0.018892 -0.007087 -0.017298 -0.009622  1.000000  0.068362  \n",
       "churndep -0.008490 -0.007766 -0.004586 -0.014902  0.068362  1.000000  "
      ]
     },
     "execution_count": 82,
     "metadata": {},
     "output_type": "execute_result"
    }
   ],
   "source": [
    "train_data.corr()"
   ]
  },
  {
   "cell_type": "markdown",
   "metadata": {},
   "source": [
    "**revenue** is negatively correlated with churndep (Mean monthly revenue in dollars)\n",
    "\n",
    "**eqpdays** is positively correlated with churndep (Number of days the customer has had his/her current equipment)\n",
    "\n",
    "**outcalls** is negatively correlated with churndep (Mean number of outbound voice calls)\n",
    "\n",
    "However, the above features do not correlate strongly with the output variable. These three top features result in the most information gain (ie: they reduce the entropy the most) but do not strongly correlate with the output. This implies that each feature scales non-linearly with the output variable. In a decision tree, each feature split has  an associated information gain. The real life connection of information gain is that the feature reduces the uncertainty of the output variable.\n",
    "\n"
   ]
  },
  {
   "cell_type": "markdown",
   "metadata": {},
   "source": [
    "6\\. Using the classifier built in 2.3, try predicting \"churndep\" on both the train_df and test_df data sets. What is the accuracy on each? What is your explanation on the difference (or lackthereof) between the two accuracies?"
   ]
  },
  {
   "cell_type": "code",
   "execution_count": 86,
   "metadata": {},
   "outputs": [
    {
     "name": "stdout",
     "output_type": "stream",
     "text": [
      "Train data accuracy: 0.9998745570295104\n",
      "Test data accuracy: 0.5344957350727546\n"
     ]
    }
   ],
   "source": [
    "from sklearn import metrics\n",
    "\n",
    "features = list(test_data.columns[:11])\n",
    "x_test = test_data[features]\n",
    "y_test = test_data[\"churndep\"]\n",
    "\n",
    "clf = clf.fit(X, Y)\n",
    "\n",
    "y_pred_train = clf.predict(X)\n",
    "y_pred_test = clf.predict(x_test)\n",
    "\n",
    "print(\"Train data accuracy:\",metrics.accuracy_score(Y, y_pred_train))\n",
    "print(\"Test data accuracy:\",metrics.accuracy_score(y_test, y_pred_test))"
   ]
  },
  {
   "cell_type": "markdown",
   "metadata": {},
   "source": [
    "The training data is likely being overfit, resulting in an unrealistic accuracy close to 1. This results in a poor accuracy for the test data."
   ]
  },
  {
   "cell_type": "code",
   "execution_count": 89,
   "metadata": {},
   "outputs": [
    {
     "name": "stdout",
     "output_type": "stream",
     "text": [
      "depth: 54\n",
      "num leaves: 9337\n"
     ]
    }
   ],
   "source": [
    "print(\"depth: \" + str(clf.get_depth()))\n",
    "print(\"num leaves: \" + str(clf.get_n_leaves()))"
   ]
  },
  {
   "cell_type": "markdown",
   "metadata": {},
   "source": [
    "### Part 3 - Finding a Good Decision Tree (10 Points)\n",
    "The default options for your decision tree may not be optimal. We need to analyze whether tuning the parameters can improve the accuracy of the classifier.  For the following options `min_samples_split` and `min_samples_leaf`:"
   ]
  },
  {
   "cell_type": "markdown",
   "metadata": {},
   "source": [
    "1\\. Generate a list of 10 values of each for the parameters mim_samples_split and min_samples_leaf. "
   ]
  },
  {
   "cell_type": "code",
   "execution_count": 302,
   "metadata": {},
   "outputs": [
    {
     "name": "stdout",
     "output_type": "stream",
     "text": [
      "[ 2  2  3  4  6  8 12 16 23 32]\n",
      "[ 100  151  227  341  514  774 1166 1756 2644 3981]\n"
     ]
    }
   ],
   "source": [
    "#min_samples_leaf_values = np.round(np.linspace(2, 800, num=10)).astype(int)\n",
    "#min_samples_split_values = np.round(np.linspace(200, 1000, num=10)).astype(int)\n",
    "\n",
    "min_samples_leaf_values = np.round(np.logspace(0.2, 1.5, 10)).astype(int)\n",
    "min_samples_split_values = np.round(np.logspace(2, 3.6, 10)).astype(int)\n",
    "\n",
    "print(min_samples_leaf_values)\n",
    "print(min_samples_split_values)"
   ]
  },
  {
   "cell_type": "markdown",
   "metadata": {},
   "source": [
    "2\\. Explain in words your reasoning for choosing the above ranges."
   ]
  },
  {
   "cell_type": "markdown",
   "metadata": {},
   "source": [
    "I wanted to have exponential spacing of test values for minimum min_samples_split and min_samples_leaf for a search range. This is because less fitting is desired and this occurs at the lower range. The top value of the range was initially chosen to be the values of our overfit model but this was modified based on the output. "
   ]
  },
  {
   "cell_type": "markdown",
   "metadata": {},
   "source": [
    "3\\. For each combination of values in 3.1 (there should be 100), build a new classifier and check the classifier's accuracy on the test data. Plot the test set accuracy for these options. Use the values of `min_samples_split` as the x-axis and generate a new series (line) for each of `min_samples_leaf`."
   ]
  },
  {
   "cell_type": "code",
   "execution_count": 303,
   "metadata": {},
   "outputs": [
    {
     "data": {
      "image/png": "[encoded data removed]",
      "text/plain": [
       "<Figure size 432x288 with 1 Axes>"
      ]
     },
     "metadata": {
      "needs_background": "light"
     },
     "output_type": "display_data"
    }
   ],
   "source": [
    "import matplotlib.pyplot as plt\n",
    "%matplotlib inline\n",
    "\n",
    "ma=0\n",
    "for l in min_samples_leaf_values:\n",
    "    line = []\n",
    "    x_split = []\n",
    "    for s in min_samples_split_values:\n",
    "        clf_v = DecisionTreeClassifier(criterion='entropy', min_samples_split=s, min_samples_leaf=l)\n",
    "        clf_v = clf_v.fit(X, Y)\n",
    "        y_pred_test = clf_v.predict(x_test)\n",
    "        acc = metrics.accuracy_score(y_test, y_pred_test)\n",
    "        if acc > ma:\n",
    "            ma = acc\n",
    "            max_leaf = l\n",
    "            max_split = s\n",
    "        line.append(acc)  \n",
    "        x_split.append(s)\n",
    "    plt.plot(x_split,line, label=l)\n",
    "\n",
    "plt.xlabel('min_samples_split')\n",
    "plt.ylabel('accuracy')\n",
    "plt.legend(bbox_to_anchor=(1.04,1), loc=\"upper left\", title=\"min_samples_leaf value\")\n",
    "plt.show()"
   ]
  },
  {
   "cell_type": "markdown",
   "metadata": {},
   "source": [
    "4\\. Which configuration returns the best accuracy? What is this accuracy? (Note, if you don't see much variation in the test set accuracy across values of min_samples_split or min_samples_leaf, try redoing the above steps with a different range of values), and reassess your answer in Q3.2."
   ]
  },
  {
   "cell_type": "code",
   "execution_count": 304,
   "metadata": {},
   "outputs": [
    {
     "name": "stdout",
     "output_type": "stream",
     "text": [
      "Max accuracy = 0.5948319116909182, leaf_num = 3, split = 1166\n"
     ]
    }
   ],
   "source": [
    "print(\"Max accuracy = \" + str(ma) + \", leaf_num = \" +  str(max_leaf) + \", split = \" + str(max_split))"
   ]
  },
  {
   "cell_type": "markdown",
   "metadata": {},
   "source": [
    "Note that when split is less than leaf_num, the leaf_num is truncated"
   ]
  },
  {
   "cell_type": "markdown",
   "metadata": {},
   "source": [
    "5\\. If you were working for a marketing department, how would you use your churn production model in a real business environment? Explain why churn prediction might be good for the business and how one might improve churn by using this model."
   ]
  },
  {
   "cell_type": "markdown",
   "metadata": {},
   "source": [
    "If I was the marketing department, I would attempt to identify users most likely to churn and try to create marketing campaigns that would impact the features highest related to churn for these users. The goal would be to modify the users so that they have less risk of churning. This could be done by modifying their price, offerring new equipment, or other promotional techniques.\n",
    "\n",
    "Churn prediction useful business for revenue for forecasting and tailoring products to reduce churn rates. For example, the overall churn rate could be reduced by introducing new features, modifying pricing, or engaging with users differently. In addition, an improvement to the model could try to predict the ROI based on churn marketing investment."
   ]
  },
  {
   "cell_type": "code",
   "execution_count": null,
   "metadata": {},
   "outputs": [],
   "source": []
  }
 ],
 "metadata": {
  "kernelspec": {
   "display_name": "Python 3",
   "language": "python",
   "name": "python3"
  },
  "language_info": {
   "codemirror_mode": {
    "name": "ipython",
    "version": 3
   },
   "file_extension": ".py",
   "mimetype": "text/x-python",
   "name": "python",
   "nbconvert_exporter": "python",
   "pygments_lexer": "ipython3",
   "version": "3.7.3"
  }
 },
 "nbformat": 4,
 "nbformat_minor": 1
}
